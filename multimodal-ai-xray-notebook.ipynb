{
 "cells": [
  {
   "cell_type": "code",
   "execution_count": null,
   "metadata": {},
   "outputs": [],
   "source": []
  },
  {
   "cell_type": "markdown",
   "metadata": {},
   "source": [
    "Um **PACS** (Picture Archiving and Communication System) é um sistema de arquivamento e comunicação de imagens médicas que permite o armazenamento, acesso e compartilhamento digital de imagens radiológicas e outros tipos de exames em uma rede hospitalar.\n",
    "\n",
    "Um arquivo **DICOM** (Digital Imaging and Communications in Medicine) é um formato padrão para armazenar e transmitir imagens médicas junto com informações associadas, permitindo a interoperabilidade entre diferentes sistemas de imagens médicas."
   ]
  },
  {
   "cell_type": "markdown",
   "metadata": {},
   "source": [
    "## Passo 1\n",
    "\n",
    "Configurar e rodar um PACs OrthanC, utilizando Docker."
   ]
  },
  {
   "cell_type": "code",
   "execution_count": null,
   "metadata": {},
   "outputs": [],
   "source": []
  },
  {
   "cell_type": "markdown",
   "metadata": {},
   "source": [
    "## Passo 2\n",
    "\n",
    "Utilizar um script Python para enviar arquivos DICOM (arquivos disponíveis em https://drive.google.com/file/d/1Decc3rX_5oxF-4VvQxtWVqkV91O_Auf9/view).\n",
    "\n",
    "Dica: Use API Rest do OrthanC"
   ]
  },
  {
   "cell_type": "code",
   "execution_count": null,
   "metadata": {},
   "outputs": [],
   "source": []
  },
  {
   "cell_type": "markdown",
   "metadata": {},
   "source": [
    "## Passo 3\n",
    "\n",
    "Utilizando os mesmos arquivos DICOM, computar os resultados de classificação de achados utilizando o modelo pré-treinado e instruções encontradas na seção \"Get Started\" do README do TorchXRayVision https://github.com/mlmed/torchxrayvision.\n",
    "\n",
    "Dica: Use a função da biblioteca xrv.utils.read_xray_dcm para ler arquivos DICOM."
   ]
  },
  {
   "cell_type": "code",
   "execution_count": null,
   "metadata": {},
   "outputs": [],
   "source": []
  },
  {
   "cell_type": "markdown",
   "metadata": {},
   "source": [
    "## Passo 4\n",
    "\n",
    "Criar um DICOM SR (Structured Report) para cada arquivo DICOM com os resultados do modelo, e enviar os DICOM SR para o PACS local OrthanC. Note que o DICOM SR deve ser do paciente/estudo/série correta."
   ]
  },
  {
   "cell_type": "code",
   "execution_count": null,
   "metadata": {},
   "outputs": [],
   "source": []
  },
  {
   "cell_type": "markdown",
   "metadata": {},
   "source": [
    "Os resultados devem ser entregues como um repositório no GitHub acessível publicamente. Além do código e Dockerfile, os resultados do TorchXRayVision devem estar no repositório em formato .json. Além disso, utilize o README do repositório para relatar de forma breve as dificuldades encontradas na solução deste desafio e o que você aprendeu neste processo."
   ]
  }
 ],
 "metadata": {
  "language_info": {
   "name": "python"
  }
 },
 "nbformat": 4,
 "nbformat_minor": 2
}
